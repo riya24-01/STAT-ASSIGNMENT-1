{
  "nbformat": 4,
  "nbformat_minor": 0,
  "metadata": {
    "colab": {
      "provenance": [],
      "toc_visible": true
    },
    "kernelspec": {
      "name": "python3",
      "display_name": "Python 3"
    },
    "language_info": {
      "name": "python"
    }
  },
  "cells": [
    {
      "cell_type": "code",
      "execution_count": null,
      "metadata": {
        "id": "_NdpCidJgZGK"
      },
      "outputs": [],
      "source": [
        "import requests\n",
        "import pandas as pd\n",
        "from sklearn.ensemble import RandomForestRegressor\n",
        "\n",
        "def fetch_historical_data(index, expiry):\n",
        "    url = f\"https://live.markethound.in/api/history/decay?name={index}&expiry={expiry}&dte=0\"\n",
        "    response = requests.get(url)\n",
        "    if response.status_code == 200:\n",
        "        return response.json()\n",
        "    else:\n",
        "        print(\"Error fetching data\")\n",
        "        return None\n",
        "\n",
        "expiry_date = \"2024-03-14T00:00:00.000Z\"\n",
        "index = \"FINNIFTY\"\n",
        "historical_data = fetch_historical_data(index, expiry_date)\n",
        "\n",
        "df = pd.DataFrame(historical_data)\n",
        "df.dropna(inplace=True)\n",
        "\n",
        "X = df.drop(['Open', 'High', 'Low', 'Close'], axis=1)\n",
        "y = df[['Open', 'High', 'Low', 'Close']]\n",
        "\n",
        "model = RandomForestRegressor()\n",
        "model.fit(X, y)\n",
        "\n",
        "new_data_features = new_data.drop(['Open', 'High', 'Low', 'Close'], axis=1)\n",
        "next_day_predictions = model.predict(new_data_features)\n",
        "\n",
        "print(\"Predicted Straddle Open, High, Low, Close for the next day (Tuesday):\", next_day_predictions)"
      ]
    }
  ]
}